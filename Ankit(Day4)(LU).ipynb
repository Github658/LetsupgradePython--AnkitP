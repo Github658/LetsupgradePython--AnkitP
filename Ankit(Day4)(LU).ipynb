{
  "nbformat": 4,
  "nbformat_minor": 0,
  "metadata": {
    "colab": {
      "name": "Ankit(Day5)(LU)",
      "provenance": [],
      "collapsed_sections": [],
      "authorship_tag": "ABX9TyOS8+5w6DKlchkkwWGhx4j8",
      "include_colab_link": true
    },
    "kernelspec": {
      "name": "python3",
      "display_name": "Python 3"
    }
  },
  "cells": [
    {
      "cell_type": "markdown",
      "metadata": {
        "id": "view-in-github",
        "colab_type": "text"
      },
      "source": [
        "<a href=\"https://colab.research.google.com/github/Github658/LetsupgradePython--AnkitP/blob/master/Ankit(Day5)(LU).ipynb\" target=\"_parent\"><img src=\"https://colab.research.google.com/assets/colab-badge.svg\" alt=\"Open In Colab\"/></a>"
      ]
    },
    {
      "cell_type": "markdown",
      "metadata": {
        "id": "CEMUdaWP7N1J",
        "colab_type": "text"
      },
      "source": [
        "ASSIGNMENT 1\n",
        " \n",
        "DAY 4"
      ]
    },
    {
      "cell_type": "markdown",
      "metadata": {
        "id": "chrg-zYF7Vvi",
        "colab_type": "text"
      },
      "source": [
        "Question 1\n",
        " \n",
        "Print the first ArmStrong number in the range of 1042000 to 702648265 and exit the loop as soon as you encounter the first armstrong number, Use while loop"
      ]
    },
    {
      "cell_type": "code",
      "metadata": {
        "id": "nfcB1CTl7xoh",
        "colab_type": "code",
        "colab": {
          "base_uri": "https://localhost:8080/",
          "height": 34
        },
        "outputId": "5aa6499f-43c3-4dd8-c697-2be6401ddbb0"
      },
      "source": [
        "for num in range(1042000,702648265):\n",
        "    order=len(str(num))\n",
        "    temp=num\n",
        "    sum=0\n",
        "    while temp > 0:\n",
        "        digit=temp%10\n",
        "        sum=sum+digit**order\n",
        "        temp=temp//10\n",
        " \n",
        "        break\n",
        "    if sum==num:\n",
        " \n",
        "              print(num)"
      ],
      "execution_count": null,
      "outputs": [
        {
          "output_type": "stream",
          "text": [
            "4782969\n"
          ],
          "name": "stdout"
        }
      ]
    }
  ]
}
