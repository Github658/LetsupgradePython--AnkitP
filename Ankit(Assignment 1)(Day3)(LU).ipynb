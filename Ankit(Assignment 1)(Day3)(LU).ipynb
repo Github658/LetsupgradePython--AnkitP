{
  "nbformat": 4,
  "nbformat_minor": 0,
  "metadata": {
    "colab": {
      "name": "Ankit(Day3)(LU).ipynb",
      "provenance": [],
      "collapsed_sections": [],
      "authorship_tag": "ABX9TyMSxLMoULBCgO/NyvZKq+K5",
      "include_colab_link": true
    },
    "kernelspec": {
      "name": "python3",
      "display_name": "Python 3"
    }
  },
  "cells": [
    {
      "cell_type": "markdown",
      "metadata": {
        "id": "view-in-github",
        "colab_type": "text"
      },
      "source": [
        "<a href=\"https://colab.research.google.com/github/Github658/LetsupgradePython--AnkitP/blob/master/Ankit(Assignment%201)(Day3)(LU).ipynb\" target=\"_parent\"><img src=\"https://colab.research.google.com/assets/colab-badge.svg\" alt=\"Open In Colab\"/></a>"
      ]
    },
    {
      "cell_type": "markdown",
      "metadata": {
        "id": "bZ1sd-Ve4g93",
        "colab_type": "text"
      },
      "source": [
        "Day 3\n",
        " \n",
        "Assignment 1"
      ]
    },
    {
      "cell_type": "markdown",
      "metadata": {
        "id": "1zlEYZzMBNIW",
        "colab_type": "text"
      },
      "source": [
        " Question 1\n",
        "\n",
        "You all are Plots, you want to land a plane safely, so altitude required for landing a plane is 1000ft, it it is less than tell pilot to land the plane. or it is more than that but less than 5000ft ask the pilot to come down to 1000ft\", else if it more than 5000ft ask the pilot to go around and try later\""
      ]
    },
    {
      "cell_type": "code",
      "metadata": {
        "id": "SFd3Gi1s5wzl",
        "colab_type": "code",
        "colab": {
          "base_uri": "https://localhost:8080/",
          "height": 71
        },
        "outputId": "2ef8d84a-53eb-4718-b6ea-9b2f9708f77d"
      },
      "source": [
        "Altitude=int(input(\"Enter the current Altitude(ft) of the plane-\"))\n",
        "if Altitude==1000:\n",
        "    print(\"Safe to land\")\n",
        "elif Altitude<1000:\n",
        "    print(\"Safe to land\")\n",
        "elif Altitude>1000 and Altitude<5000:\n",
        "    print(\"Bring down to 1000ft\")\n",
        "else:\n",
        "    print(\"Go ground and try again\")"
      ],
      "execution_count": 30,
      "outputs": [
        {
          "output_type": "stream",
          "text": [
            "Enter the current Altitude(ft) of the plane-2000\n",
            "Bring down to 1000ft\n"
          ],
          "name": "stdout"
        }
      ]
    },
    {
      "cell_type": "markdown",
      "metadata": {
        "id": "oDU5vZ4hA5IQ",
        "colab_type": "text"
      },
      "source": [
        "Question 2\n",
        "\n",
        "Using for loop please print all the prime numbers between 1-200 using FOR LOOP AND RANGE function"
      ]
    },
    {
      "cell_type": "code",
      "metadata": {
        "id": "-cjt62qLKly3",
        "colab_type": "code",
        "colab": {
          "base_uri": "https://localhost:8080/",
          "height": 820
        },
        "outputId": "5df58517-6690-4c3d-c038-c380e55f73da"
      },
      "source": [
        " lower = 1\n",
        "upper = 200\n",
        " \n",
        "print(\"Prime numbers between\", lower, \"and\", upper, \"are:\")\n",
        " \n",
        "for num in range(lower, upper + 1):\n",
        "   # all prime numbers are greater than 1\n",
        "   if num > 1:\n",
        "       for i in range(2, num):\n",
        "           if (num % i) == 0:\n",
        "               break\n",
        "       else:\n",
        "           print(num)"
      ],
      "execution_count": null,
      "outputs": [
        {
          "output_type": "stream",
          "text": [
            "Prime numbers between 1 and 200 are:\n",
            "2\n",
            "3\n",
            "5\n",
            "7\n",
            "11\n",
            "13\n",
            "17\n",
            "19\n",
            "23\n",
            "29\n",
            "31\n",
            "37\n",
            "41\n",
            "43\n",
            "47\n",
            "53\n",
            "59\n",
            "61\n",
            "67\n",
            "71\n",
            "73\n",
            "79\n",
            "83\n",
            "89\n",
            "97\n",
            "101\n",
            "103\n",
            "107\n",
            "109\n",
            "113\n",
            "127\n",
            "131\n",
            "137\n",
            "139\n",
            "149\n",
            "151\n",
            "157\n",
            "163\n",
            "167\n",
            "173\n",
            "179\n",
            "181\n",
            "191\n",
            "193\n",
            "197\n",
            "199\n"
          ],
          "name": "stdout"
        }
      ]
    }
  ]
}