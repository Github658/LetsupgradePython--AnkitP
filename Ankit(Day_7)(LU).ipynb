{
  "nbformat": 4,
  "nbformat_minor": 0,
  "metadata": {
    "colab": {
      "name": "Ankit(Day 7)(LU).ipynb",
      "provenance": [],
      "authorship_tag": "ABX9TyNWQTxnAgpvngHOvXGP7qFB",
      "include_colab_link": true
    },
    "kernelspec": {
      "name": "python3",
      "display_name": "Python 3"
    }
  },
  "cells": [
    {
      "cell_type": "markdown",
      "metadata": {
        "id": "view-in-github",
        "colab_type": "text"
      },
      "source": [
        "<a href=\"https://colab.research.google.com/github/Github658/LetsupgradePython--AnkitP/blob/master/Ankit(Day_7)(LU).ipynb\" target=\"_parent\"><img src=\"https://colab.research.google.com/assets/colab-badge.svg\" alt=\"Open In Colab\"/></a>"
      ]
    },
    {
      "cell_type": "markdown",
      "metadata": {
        "id": "9p71Ky3PGsNW",
        "colab_type": "text"
      },
      "source": [
        "**DAY 7**"
      ]
    },
    {
      "cell_type": "markdown",
      "metadata": {
        "id": "NZA9mhtWGwK3",
        "colab_type": "text"
      },
      "source": [
        " **NO ASSIGNMENTS WERE GIVEN ON DAY 7**"
      ]
    }
  ]
}